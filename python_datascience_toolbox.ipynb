{
  "nbformat": 4,
  "nbformat_minor": 0,
  "metadata": {
    "colab": {
      "name": "python_datascience_toolbox.ipynb",
      "version": "0.3.2",
      "provenance": [],
      "collapsed_sections": [],
      "include_colab_link": true
    },
    "kernelspec": {
      "name": "python3",
      "display_name": "Python 3"
    }
  },
  "cells": [
    {
      "cell_type": "markdown",
      "metadata": {
        "id": "view-in-github",
        "colab_type": "text"
      },
      "source": [
        "<a href=\"https://colab.research.google.com/github/Priyatham10/Python_Data_Science_Toolbox/blob/master/python_datascience_toolbox.ipynb\" target=\"_parent\"><img src=\"https://colab.research.google.com/assets/colab-badge.svg\" alt=\"Open In Colab\"/></a>"
      ]
    },
    {
      "metadata": {
        "id": "sm7fQ-a494oJ",
        "colab_type": "text"
      },
      "cell_type": "markdown",
      "source": [
        "## **Writing my own function in the context of Data Science.** We will write a function that analyzes Twitter data."
      ]
    },
    {
      "metadata": {
        "id": "UisiqFxO-LSG",
        "colab_type": "code",
        "colab": {}
      },
      "cell_type": "code",
      "source": [
        "import pandas as pd\n",
        "import io"
      ],
      "execution_count": 0,
      "outputs": []
    },
    {
      "metadata": {
        "id": "pRTCVgco-g6N",
        "colab_type": "code",
        "colab": {}
      },
      "cell_type": "code",
      "source": [
        "from google.colab import files\n",
        "uploaded = files.upload() # This will prompt you to upload the file of interest from the local directory or File Explorer to the Colab which you can work with."
      ],
      "execution_count": 0,
      "outputs": []
    },
    {
      "metadata": {
        "id": "TaK_B0FnAiuM",
        "colab_type": "code",
        "colab": {
          "base_uri": "https://localhost:8080/",
          "height": 245
        },
        "outputId": "438cf16b-d92e-4ca1-c924-3d0298c05176"
      },
      "cell_type": "code",
      "source": [
        "df = pd.read_csv(io.BytesIO(uploaded['tweets.csv']))\n",
        "df.head(2)"
      ],
      "execution_count": 7,
      "outputs": [
        {
          "output_type": "execute_result",
          "data": {
            "text/html": [
              "<div>\n",
              "<style scoped>\n",
              "    .dataframe tbody tr th:only-of-type {\n",
              "        vertical-align: middle;\n",
              "    }\n",
              "\n",
              "    .dataframe tbody tr th {\n",
              "        vertical-align: top;\n",
              "    }\n",
              "\n",
              "    .dataframe thead th {\n",
              "        text-align: right;\n",
              "    }\n",
              "</style>\n",
              "<table border=\"1\" class=\"dataframe\">\n",
              "  <thead>\n",
              "    <tr style=\"text-align: right;\">\n",
              "      <th></th>\n",
              "      <th>contributors</th>\n",
              "      <th>coordinates</th>\n",
              "      <th>created_at</th>\n",
              "      <th>entities</th>\n",
              "      <th>extended_entities</th>\n",
              "      <th>favorite_count</th>\n",
              "      <th>favorited</th>\n",
              "      <th>filter_level</th>\n",
              "      <th>geo</th>\n",
              "      <th>id</th>\n",
              "      <th>...</th>\n",
              "      <th>quoted_status_id</th>\n",
              "      <th>quoted_status_id_str</th>\n",
              "      <th>retweet_count</th>\n",
              "      <th>retweeted</th>\n",
              "      <th>retweeted_status</th>\n",
              "      <th>source</th>\n",
              "      <th>text</th>\n",
              "      <th>timestamp_ms</th>\n",
              "      <th>truncated</th>\n",
              "      <th>user</th>\n",
              "    </tr>\n",
              "  </thead>\n",
              "  <tbody>\n",
              "    <tr>\n",
              "      <th>0</th>\n",
              "      <td>NaN</td>\n",
              "      <td>NaN</td>\n",
              "      <td>Tue Mar 29 23:40:17 +0000 2016</td>\n",
              "      <td>{'hashtags': [], 'user_mentions': [{'screen_na...</td>\n",
              "      <td>{'media': [{'sizes': {'large': {'w': 1024, 'h'...</td>\n",
              "      <td>0</td>\n",
              "      <td>False</td>\n",
              "      <td>low</td>\n",
              "      <td>NaN</td>\n",
              "      <td>714960401759387648</td>\n",
              "      <td>...</td>\n",
              "      <td>NaN</td>\n",
              "      <td>NaN</td>\n",
              "      <td>0</td>\n",
              "      <td>False</td>\n",
              "      <td>{'retweeted': False, 'text': \".@krollbondratin...</td>\n",
              "      <td>&lt;a href=\"http://twitter.com\" rel=\"nofollow\"&gt;Tw...</td>\n",
              "      <td>RT @bpolitics: .@krollbondrating's Christopher...</td>\n",
              "      <td>1459294817758</td>\n",
              "      <td>False</td>\n",
              "      <td>{'utc_offset': 3600, 'profile_image_url_https'...</td>\n",
              "    </tr>\n",
              "    <tr>\n",
              "      <th>1</th>\n",
              "      <td>NaN</td>\n",
              "      <td>NaN</td>\n",
              "      <td>Tue Mar 29 23:40:17 +0000 2016</td>\n",
              "      <td>{'hashtags': [{'text': 'cruzsexscandal', 'indi...</td>\n",
              "      <td>{'media': [{'sizes': {'large': {'w': 500, 'h':...</td>\n",
              "      <td>0</td>\n",
              "      <td>False</td>\n",
              "      <td>low</td>\n",
              "      <td>NaN</td>\n",
              "      <td>714960401977319424</td>\n",
              "      <td>...</td>\n",
              "      <td>NaN</td>\n",
              "      <td>NaN</td>\n",
              "      <td>0</td>\n",
              "      <td>False</td>\n",
              "      <td>{'retweeted': False, 'text': '@dmartosko Cruz ...</td>\n",
              "      <td>&lt;a href=\"http://twitter.com\" rel=\"nofollow\"&gt;Tw...</td>\n",
              "      <td>RT @HeidiAlpine: @dmartosko Cruz video found.....</td>\n",
              "      <td>1459294817810</td>\n",
              "      <td>False</td>\n",
              "      <td>{'utc_offset': None, 'profile_image_url_https'...</td>\n",
              "    </tr>\n",
              "  </tbody>\n",
              "</table>\n",
              "<p>2 rows × 31 columns</p>\n",
              "</div>"
            ],
            "text/plain": [
              "   contributors  coordinates                      created_at  \\\n",
              "0           NaN          NaN  Tue Mar 29 23:40:17 +0000 2016   \n",
              "1           NaN          NaN  Tue Mar 29 23:40:17 +0000 2016   \n",
              "\n",
              "                                            entities  \\\n",
              "0  {'hashtags': [], 'user_mentions': [{'screen_na...   \n",
              "1  {'hashtags': [{'text': 'cruzsexscandal', 'indi...   \n",
              "\n",
              "                                   extended_entities  favorite_count  \\\n",
              "0  {'media': [{'sizes': {'large': {'w': 1024, 'h'...               0   \n",
              "1  {'media': [{'sizes': {'large': {'w': 500, 'h':...               0   \n",
              "\n",
              "   favorited filter_level  geo                  id  \\\n",
              "0      False          low  NaN  714960401759387648   \n",
              "1      False          low  NaN  714960401977319424   \n",
              "\n",
              "                         ...                          quoted_status_id  \\\n",
              "0                        ...                                       NaN   \n",
              "1                        ...                                       NaN   \n",
              "\n",
              "  quoted_status_id_str  retweet_count  retweeted  \\\n",
              "0                  NaN              0      False   \n",
              "1                  NaN              0      False   \n",
              "\n",
              "                                    retweeted_status  \\\n",
              "0  {'retweeted': False, 'text': \".@krollbondratin...   \n",
              "1  {'retweeted': False, 'text': '@dmartosko Cruz ...   \n",
              "\n",
              "                                              source  \\\n",
              "0  <a href=\"http://twitter.com\" rel=\"nofollow\">Tw...   \n",
              "1  <a href=\"http://twitter.com\" rel=\"nofollow\">Tw...   \n",
              "\n",
              "                                                text   timestamp_ms truncated  \\\n",
              "0  RT @bpolitics: .@krollbondrating's Christopher...  1459294817758     False   \n",
              "1  RT @HeidiAlpine: @dmartosko Cruz video found.....  1459294817810     False   \n",
              "\n",
              "                                                user  \n",
              "0  {'utc_offset': 3600, 'profile_image_url_https'...  \n",
              "1  {'utc_offset': None, 'profile_image_url_https'...  \n",
              "\n",
              "[2 rows x 31 columns]"
            ]
          },
          "metadata": {
            "tags": []
          },
          "execution_count": 7
        }
      ]
    },
    {
      "metadata": {
        "id": "dBhpyfSzBqDX",
        "colab_type": "text"
      },
      "cell_type": "markdown",
      "source": [
        "**The dataset contains Twitter data and we will iterate over entries in a column to build a dictionary in which the keys are the names of languages and the values are the number of tweets in the given language.**"
      ]
    },
    {
      "metadata": {
        "id": "FvYBgQgWBR-4",
        "colab_type": "code",
        "colab": {}
      },
      "cell_type": "code",
      "source": [
        "# Initialize an empty dictionary: langs_count\n",
        "langs_count = {}\n",
        "\n",
        "# Extract column from DataFrame: col\n",
        "col = df['lang']\n",
        "\n",
        "# Iterate over lang column in DataFrame\n",
        "for entry in col:\n",
        "\n",
        "    # If the language is in langs_count, add 1\n",
        "    if entry in langs_count.keys():\n",
        "        langs_count[entry] += 1\n",
        "    # Else add the language to langs_count, set the value to 1\n",
        "    else:\n",
        "        langs_count[entry] = 1\n",
        "\n",
        "# Print the populated dictionary\n",
        "print(langs_count)"
      ],
      "execution_count": 0,
      "outputs": []
    },
    {
      "metadata": {
        "id": "BY13W9dlDF6f",
        "colab_type": "text"
      },
      "cell_type": "markdown",
      "source": [
        "**Now, we will define a function with the functionality we developed in the previous code block and, return the resulting dictionary from within the function, and call the function with the appropriate arguments.**"
      ]
    },
    {
      "metadata": {
        "id": "k7lpLrwjDSX8",
        "colab_type": "code",
        "colab": {}
      },
      "cell_type": "code",
      "source": [
        "\n",
        "# Define count_entries()\n",
        "def count_entries(df, col_name):\n",
        "    \"\"\"Return a dictionary with counts of \n",
        "    occurrences as value for each key.\"\"\"\n",
        "\n",
        "    # Initialize an empty dictionary: langs_count\n",
        "    langs_count = {}\n",
        "    \n",
        "    # Extract column from DataFrame: col\n",
        "    col = df[col_name]\n",
        "    \n",
        "    # Iterate over lang column in DataFrame\n",
        "    for entry in col:\n",
        "\n",
        "        # If the language is in langs_count, add 1\n",
        "        if entry in langs_count.keys():\n",
        "            langs_count[entry] += 1\n",
        "        # Else add the language to langs_count, set the value to 1\n",
        "        else:\n",
        "            langs_count[entry] = 1\n",
        "\n",
        "    # Return the langs_count dictionary\n",
        "    return langs_count\n",
        "\n",
        "# Call count_entries(): result\n",
        "result = count_entries(df, 'lang')\n",
        "\n",
        "# Print the result\n",
        "print(result)\n"
      ],
      "execution_count": 0,
      "outputs": []
    },
    {
      "metadata": {
        "id": "ENmPHSJFDuBP",
        "colab_type": "code",
        "colab": {
          "base_uri": "https://localhost:8080/",
          "height": 34
        },
        "outputId": "9dcd2d9a-686b-4bc5-e47b-905a9cc0a70b"
      },
      "cell_type": "code",
      "source": [
        "# Validating the functionalities in both the above two code cells.\n",
        "result == langs_count"
      ],
      "execution_count": 10,
      "outputs": [
        {
          "output_type": "execute_result",
          "data": {
            "text/plain": [
              "True"
            ]
          },
          "metadata": {
            "tags": []
          },
          "execution_count": 10
        }
      ]
    },
    {
      "metadata": {
        "id": "0qK182F8byWz",
        "colab_type": "text"
      },
      "cell_type": "markdown",
      "source": [
        "**Generalizing the above written function:**\n",
        "\n",
        "1.   Count occurences in any column instead of just 'lang' columns.\n",
        "2.   Count occurences for any arbitrary number of columns.\n",
        "\n",
        "\n",
        "\n"
      ]
    },
    {
      "metadata": {
        "id": "X_vIufdacvyw",
        "colab_type": "code",
        "colab": {
          "base_uri": "https://localhost:8080/",
          "height": 71
        },
        "outputId": "1526667b-c62d-448e-867a-46ee80d10ee3"
      },
      "cell_type": "code",
      "source": [
        "# Define count_entries_1()\n",
        "def count_entries_1(df, col_name='lang'): # By just changing the hardcoded col_name to a default assignment will do the work for us.\n",
        "    \"\"\"Return a dictionary with counts of\n",
        "    occurrences as value for each key.\"\"\"\n",
        "\n",
        "    # Initialize an empty dictionary: cols_count\n",
        "    cols_count = {}\n",
        "\n",
        "    # Extract column from DataFrame: col\n",
        "    col = df[col_name]\n",
        "    \n",
        "    # Iterate over the column in DataFrame\n",
        "    for entry in col:\n",
        "\n",
        "        # If entry is in cols_count, add 1\n",
        "        if entry in cols_count.keys():\n",
        "            cols_count[entry] += 1\n",
        "\n",
        "        # Else add the entry to cols_count, set the value to 1\n",
        "        else:\n",
        "            cols_count[entry] = 1\n",
        "\n",
        "    # Return the cols_count dictionary\n",
        "    return cols_count\n",
        "\n",
        "# Call count_entries(): result1\n",
        "result1 = count_entries_1(df, 'lang')\n",
        "\n",
        "# Call count_entries(): result2\n",
        "result2 = count_entries(df, 'source')\n",
        "\n",
        "# Print result1 and result2\n",
        "print(result1)\n",
        "print(result2)"
      ],
      "execution_count": 11,
      "outputs": [
        {
          "output_type": "stream",
          "text": [
            "{'en': 97, 'et': 1, 'und': 2}\n",
            "{'<a href=\"http://twitter.com\" rel=\"nofollow\">Twitter Web Client</a>': 24, '<a href=\"http://www.facebook.com/twitter\" rel=\"nofollow\">Facebook</a>': 1, '<a href=\"http://twitter.com/download/android\" rel=\"nofollow\">Twitter for Android</a>': 26, '<a href=\"http://twitter.com/download/iphone\" rel=\"nofollow\">Twitter for iPhone</a>': 33, '<a href=\"http://www.twitter.com\" rel=\"nofollow\">Twitter for BlackBerry</a>': 2, '<a href=\"http://www.google.com/\" rel=\"nofollow\">Google</a>': 2, '<a href=\"http://twitter.com/#!/download/ipad\" rel=\"nofollow\">Twitter for iPad</a>': 6, '<a href=\"http://linkis.com\" rel=\"nofollow\">Linkis.com</a>': 2, '<a href=\"http://rutracker.org/forum/viewforum.php?f=93\" rel=\"nofollow\">newzlasz</a>': 2, '<a href=\"http://ifttt.com\" rel=\"nofollow\">IFTTT</a>': 1, '<a href=\"http://www.myplume.com/\" rel=\"nofollow\">Plume\\xa0for\\xa0Android</a>': 1}\n"
          ],
          "name": "stdout"
        }
      ]
    },
    {
      "metadata": {
        "id": "WEy7vQ0bdhln",
        "colab_type": "code",
        "colab": {
          "base_uri": "https://localhost:8080/",
          "height": 71
        },
        "outputId": "be97bc2c-2581-4c8c-c87b-bd693464ad63"
      },
      "cell_type": "code",
      "source": [
        "# Define count_entries_2()\n",
        "def count_entries_2(df, *args): # '*args' in the parameter can take multiple number of arguments as input and creats an iterable out of the parameters.\n",
        "    \"\"\"Return a dictionary with counts of\n",
        "    occurrences as value for each key.\"\"\"\n",
        "    \n",
        "    #Initialize an empty dictionary: cols_count\n",
        "    cols_count = {}\n",
        "    \n",
        "    # Iterate over column names in args\n",
        "    for col_name in args:\n",
        "    \n",
        "        # Extract column from DataFrame: col\n",
        "        col = df[col_name]\n",
        "    \n",
        "        # Iterate over the column in DataFrame\n",
        "        for entry in col:\n",
        "    \n",
        "            # If entry is in cols_count, add 1\n",
        "            if entry in cols_count.keys():\n",
        "                cols_count[entry] += 1\n",
        "    \n",
        "            # Else add the entry to cols_count, set the value to 1\n",
        "            else:\n",
        "                cols_count[entry] = 1\n",
        "\n",
        "    # Return the cols_count dictionary\n",
        "    return cols_count\n",
        "\n",
        "# Call count_entries(): result1\n",
        "result1 = count_entries_2(df, 'lang')\n",
        "\n",
        "# Call count_entries(): result2\n",
        "result2 = count_entries_2(df, 'lang', 'source')\n",
        "\n",
        "# Print result1 and result2\n",
        "print(result1)\n",
        "print(result2)"
      ],
      "execution_count": 12,
      "outputs": [
        {
          "output_type": "stream",
          "text": [
            "{'en': 97, 'et': 1, 'und': 2}\n",
            "{'en': 97, 'et': 1, 'und': 2, '<a href=\"http://twitter.com\" rel=\"nofollow\">Twitter Web Client</a>': 24, '<a href=\"http://www.facebook.com/twitter\" rel=\"nofollow\">Facebook</a>': 1, '<a href=\"http://twitter.com/download/android\" rel=\"nofollow\">Twitter for Android</a>': 26, '<a href=\"http://twitter.com/download/iphone\" rel=\"nofollow\">Twitter for iPhone</a>': 33, '<a href=\"http://www.twitter.com\" rel=\"nofollow\">Twitter for BlackBerry</a>': 2, '<a href=\"http://www.google.com/\" rel=\"nofollow\">Google</a>': 2, '<a href=\"http://twitter.com/#!/download/ipad\" rel=\"nofollow\">Twitter for iPad</a>': 6, '<a href=\"http://linkis.com\" rel=\"nofollow\">Linkis.com</a>': 2, '<a href=\"http://rutracker.org/forum/viewforum.php?f=93\" rel=\"nofollow\">newzlasz</a>': 2, '<a href=\"http://ifttt.com\" rel=\"nofollow\">IFTTT</a>': 1, '<a href=\"http://www.myplume.com/\" rel=\"nofollow\">Plume\\xa0for\\xa0Android</a>': 1}\n"
          ],
          "name": "stdout"
        }
      ]
    },
    {
      "metadata": {
        "id": "TDjW5KSmf1Pv",
        "colab_type": "text"
      },
      "cell_type": "markdown",
      "source": [
        " I will write a **lambda function** and use **filter( )** to select retweets, that is, tweets that begin with the string '**RT**'."
      ]
    },
    {
      "metadata": {
        "id": "rLY0VjOlfW_y",
        "colab_type": "code",
        "colab": {}
      },
      "cell_type": "code",
      "source": [
        "# Select retweets from the Twitter DataFrame: result\n",
        "result = filter(lambda x: x[0:2] == 'RT', df['text'])\n",
        "\n",
        "# Create list from filter object result: res_list\n",
        "res_list = list(result)\n",
        "\n",
        "# Print all retweets in res_list\n",
        "for tweet in res_list:\n",
        "    print(tweet)\n"
      ],
      "execution_count": 0,
      "outputs": []
    },
    {
      "metadata": {
        "id": "pNLVqP3ZetH1",
        "colab_type": "text"
      },
      "cell_type": "markdown",
      "source": [
        "**Now I will demonstrate the error handiling capablity of python. It can be done two ways:**\n",
        "\n",
        "\n",
        "1.   Using the **Try** and **Except** Blocks\n",
        "2.   Or, explicitly raising an error using **raise( )**\n",
        "\n"
      ]
    },
    {
      "metadata": {
        "id": "gGR0VgjGgoDn",
        "colab_type": "code",
        "colab": {
          "base_uri": "https://localhost:8080/",
          "height": 34
        },
        "outputId": "3da43995-c0a2-43bc-b7e2-4be2225fe801"
      },
      "cell_type": "code",
      "source": [
        "# Define count_entries_3() demonstrating Try and Except Blocks.\n",
        "def count_entries_3(df, col_name='lang'):\n",
        "    \"\"\"Return a dictionary with counts of\n",
        "    occurrences as value for each key.\"\"\"\n",
        "\n",
        "    # Initialize an empty dictionary: cols_count\n",
        "    cols_count = {}\n",
        "\n",
        "    # Add try block\n",
        "    try:\n",
        "        # Extract column from DataFrame: col\n",
        "        col = df[col_name]\n",
        "        \n",
        "        # Iterate over the column in dataframe\n",
        "        for entry in col:\n",
        "    \n",
        "            # If entry is in cols_count, add 1\n",
        "            if entry in cols_count.keys():\n",
        "                cols_count[entry] += 1\n",
        "            # Else add the entry to cols_count, set the value to 1\n",
        "            else:\n",
        "                cols_count[entry] = 1\n",
        "    \n",
        "        # Return the cols_count dictionary\n",
        "        return cols_count\n",
        "\n",
        "    # Add except block\n",
        "    except:\n",
        "        print('The DataFrame does not have a '+col_name+' column')\n",
        "\n",
        "# Call count_entries(): result1\n",
        "result1 = count_entries_3(df, 'lang')\n",
        "\n",
        "# Print result1\n",
        "print(result1)"
      ],
      "execution_count": 14,
      "outputs": [
        {
          "output_type": "stream",
          "text": [
            "{'en': 97, 'et': 1, 'und': 2}\n"
          ],
          "name": "stdout"
        }
      ]
    },
    {
      "metadata": {
        "id": "WzOhLbDEhZ70",
        "colab_type": "code",
        "colab": {
          "base_uri": "https://localhost:8080/",
          "height": 34
        },
        "outputId": "7d96be38-38e5-45d8-c3d3-6db5b9a58b00"
      },
      "cell_type": "code",
      "source": [
        "# Define count_entries_4() demonstrating raise() function to display any error\n",
        "def count_entries_4(df, col_name='lang1'):\n",
        "    \"\"\"Return a dictionary with counts of\n",
        "    occurrences as value for each key.\"\"\"\n",
        "    \n",
        "    # Raise a ValueError if col_name is NOT in DataFrame\n",
        "    if col_name not in df.columns:\n",
        "        raise ValueError('The DataFrame does not have a '+col_name+' column.')\n",
        "\n",
        "    # Initialize an empty dictionary: cols_count\n",
        "    cols_count = {}\n",
        "    \n",
        "    # Extract column from DataFrame: col\n",
        "    col = df[col_name]\n",
        "    \n",
        "    # Iterate over the column in DataFrame\n",
        "    for entry in col:\n",
        "\n",
        "        # If entry is in cols_count, add 1\n",
        "        if entry in cols_count.keys():\n",
        "            cols_count[entry] += 1\n",
        "            # Else add the entry to cols_count, set the value to 1\n",
        "        else:\n",
        "            cols_count[entry] = 1\n",
        "        \n",
        "        # Return the cols_count dictionary\n",
        "    return cols_count\n",
        "\n",
        "# Call count_entries(): result1\n",
        "result1 = count_entries_4(df,'lang')\n",
        "\n",
        "# Print result1\n",
        "print(result1)\n"
      ],
      "execution_count": 18,
      "outputs": [
        {
          "output_type": "stream",
          "text": [
            "{'en': 97, 'et': 1, 'und': 2}\n"
          ],
          "name": "stdout"
        }
      ]
    },
    {
      "metadata": {
        "id": "ouz38L3siJMn",
        "colab_type": "code",
        "colab": {
          "base_uri": "https://localhost:8080/",
          "height": 34
        },
        "outputId": "27e0cec4-6147-4e50-f490-60eb349886b5"
      },
      "cell_type": "code",
      "source": [
        "# Calling the function we defined on top and providing a valid argument so that it'll not raise any error\n",
        "count_entries_4(df, 'lang')"
      ],
      "execution_count": 19,
      "outputs": [
        {
          "output_type": "execute_result",
          "data": {
            "text/plain": [
              "{'en': 97, 'et': 1, 'und': 2}"
            ]
          },
          "metadata": {
            "tags": []
          },
          "execution_count": 19
        }
      ]
    },
    {
      "metadata": {
        "id": "XVhKSIG3iPRP",
        "colab_type": "code",
        "colab": {
          "base_uri": "https://localhost:8080/",
          "height": 282
        },
        "outputId": "c472d7eb-be44-4cf9-8f76-7095cf0d1312"
      },
      "cell_type": "code",
      "source": [
        "# Calling the function we defined on top and raising the error we want to display when provided with the wrong argument as parameter\n",
        "count_entries_4(df, 'lang1')"
      ],
      "execution_count": 20,
      "outputs": [
        {
          "output_type": "error",
          "ename": "ValueError",
          "evalue": "ignored",
          "traceback": [
            "\u001b[0;31m---------------------------------------------------------------------------\u001b[0m",
            "\u001b[0;31mValueError\u001b[0m                                Traceback (most recent call last)",
            "\u001b[0;32m<ipython-input-20-8b94f4c9479d>\u001b[0m in \u001b[0;36m<module>\u001b[0;34m()\u001b[0m\n\u001b[0;32m----> 1\u001b[0;31m \u001b[0mcount_entries_4\u001b[0m\u001b[0;34m(\u001b[0m\u001b[0mdf\u001b[0m\u001b[0;34m,\u001b[0m \u001b[0;34m'lang1'\u001b[0m\u001b[0;34m)\u001b[0m\u001b[0;34m\u001b[0m\u001b[0;34m\u001b[0m\u001b[0m\n\u001b[0m",
            "\u001b[0;32m<ipython-input-18-8efcc48d353b>\u001b[0m in \u001b[0;36mcount_entries_4\u001b[0;34m(df, col_name)\u001b[0m\n\u001b[1;32m      5\u001b[0m     \u001b[0;31m# Raise a ValueError if col_name is NOT in DataFrame\u001b[0m\u001b[0;34m\u001b[0m\u001b[0;34m\u001b[0m\u001b[0;34m\u001b[0m\u001b[0m\n\u001b[1;32m      6\u001b[0m     \u001b[0;32mif\u001b[0m \u001b[0mcol_name\u001b[0m \u001b[0;32mnot\u001b[0m \u001b[0;32min\u001b[0m \u001b[0mdf\u001b[0m\u001b[0;34m.\u001b[0m\u001b[0mcolumns\u001b[0m\u001b[0;34m:\u001b[0m\u001b[0;34m\u001b[0m\u001b[0;34m\u001b[0m\u001b[0m\n\u001b[0;32m----> 7\u001b[0;31m         \u001b[0;32mraise\u001b[0m \u001b[0mValueError\u001b[0m\u001b[0;34m(\u001b[0m\u001b[0;34m'The DataFrame does not have a '\u001b[0m\u001b[0;34m+\u001b[0m\u001b[0mcol_name\u001b[0m\u001b[0;34m+\u001b[0m\u001b[0;34m' column.'\u001b[0m\u001b[0;34m)\u001b[0m\u001b[0;34m\u001b[0m\u001b[0;34m\u001b[0m\u001b[0m\n\u001b[0m\u001b[1;32m      8\u001b[0m \u001b[0;34m\u001b[0m\u001b[0m\n\u001b[1;32m      9\u001b[0m     \u001b[0;31m# Initialize an empty dictionary: cols_count\u001b[0m\u001b[0;34m\u001b[0m\u001b[0;34m\u001b[0m\u001b[0;34m\u001b[0m\u001b[0m\n",
            "\u001b[0;31mValueError\u001b[0m: The DataFrame does not have a lang1 column."
          ]
        }
      ]
    },
    {
      "metadata": {
        "id": "HhGD-_HHhZfM",
        "colab_type": "code",
        "colab": {
          "base_uri": "https://localhost:8080/",
          "height": 34
        },
        "outputId": "b463aeca-9e79-4676-f70d-b0b46ac3d8ef"
      },
      "cell_type": "code",
      "source": [
        "# Initialize an empty dictionary: counts_dict\n",
        "counts_dict = {}\n",
        "\n",
        "# Iterate over the file chunk by chunk\n",
        "for chunk in pd.read_csv('tweets.csv', chunksize=10):\n",
        "\n",
        "    # Iterate over the column in DataFrame\n",
        "    for entry in chunk['lang']:\n",
        "        if entry in counts_dict.keys():\n",
        "            counts_dict[entry] += 1\n",
        "        else:\n",
        "            counts_dict[entry] = 1\n",
        "\n",
        "# Print the populated dictionary\n",
        "print(counts_dict)\n"
      ],
      "execution_count": 15,
      "outputs": [
        {
          "output_type": "stream",
          "text": [
            "{'en': 97, 'et': 1, 'und': 2}\n"
          ],
          "name": "stdout"
        }
      ]
    },
    {
      "metadata": {
        "id": "G1vhPHqR1eht",
        "colab_type": "text"
      },
      "cell_type": "markdown",
      "source": [
        "## **Demonstrating a way to handle the Big Data.**\n",
        "\n",
        "\n",
        ">** Sometimes, the data we have to process reaches a size that is too much for a computer's memory to handle. This is a common problem faced by data scientists. A solution to this is to process an entire data source chunk by chunk, instead of a single go all at once.**\n",
        "\n"
      ]
    },
    {
      "metadata": {
        "id": "VoPVpOxs1mDI",
        "colab_type": "code",
        "colab": {
          "base_uri": "https://localhost:8080/",
          "height": 34
        },
        "outputId": "3c883e73-7de3-4573-9690-c9c972acb0cd"
      },
      "cell_type": "code",
      "source": [
        "# Initialize an empty dictionary: counts_dict\n",
        "counts_dict = {}\n",
        "\n",
        "# Iterate over the file chunk by chunk\n",
        "for chunk in pd.read_csv('tweets.csv', chunksize=10):\n",
        "\n",
        "    # Iterate over the column in DataFrame\n",
        "    for entry in chunk['lang']:\n",
        "        if entry in counts_dict.keys():\n",
        "            counts_dict[entry] += 1\n",
        "        else:\n",
        "            counts_dict[entry] = 1\n",
        "\n",
        "# Print the populated dictionary\n",
        "print(counts_dict)\n"
      ],
      "execution_count": 21,
      "outputs": [
        {
          "output_type": "stream",
          "text": [
            "{'en': 97, 'et': 1, 'und': 2}\n"
          ],
          "name": "stdout"
        }
      ]
    },
    {
      "metadata": {
        "id": "SN3c4RPP21_y",
        "colab_type": "text"
      },
      "cell_type": "markdown",
      "source": [
        "** It can become very tedious having to write and rewrite the same code for the same task each time. Below, I will be making my code more reusable by putting my work in the last code cell in a function definition.**"
      ]
    },
    {
      "metadata": {
        "id": "EWpe0umG3IDw",
        "colab_type": "code",
        "colab": {
          "base_uri": "https://localhost:8080/",
          "height": 34
        },
        "outputId": "0dfa8792-b3a0-4d80-c8d9-746929a92ba9"
      },
      "cell_type": "code",
      "source": [
        "# Define count_entries_5()\n",
        "def count_entries_5(csv_file, c_size, colname):\n",
        "    \"\"\"Return a dictionary with counts of\n",
        "    occurrences as value for each key.\"\"\"\n",
        "    \n",
        "    # Initialize an empty dictionary: counts_dict\n",
        "    counts_dict = {}\n",
        "\n",
        "    # Iterate over the file chunk by chunk\n",
        "    for chunk in pd.read_csv(csv_file, chunksize=c_size):\n",
        "\n",
        "        # Iterate over the column in DataFrame\n",
        "        for entry in chunk[colname]:\n",
        "            if entry in counts_dict.keys():\n",
        "                counts_dict[entry] += 1\n",
        "            else:\n",
        "                counts_dict[entry] = 1\n",
        "\n",
        "    # Return counts_dict\n",
        "    return counts_dict\n",
        "\n",
        "# Call count_entries(): result_counts\n",
        "result_counts = count_entries_5('tweets.csv', 10, 'lang')\n",
        "\n",
        "# Print result_counts\n",
        "print(result_counts)\n"
      ],
      "execution_count": 23,
      "outputs": [
        {
          "output_type": "stream",
          "text": [
            "{'en': 97, 'et': 1, 'und': 2}\n"
          ],
          "name": "stdout"
        }
      ]
    },
    {
      "metadata": {
        "id": "n5aPwqpx3sf2",
        "colab_type": "text"
      },
      "cell_type": "markdown",
      "source": [
        "## **Now, I'll use List Comprehensions to wrangle important information from the time-stamped data of real tweets.**"
      ]
    },
    {
      "metadata": {
        "id": "_IACCj5l4bQk",
        "colab_type": "code",
        "colab": {
          "base_uri": "https://localhost:8080/",
          "height": 71
        },
        "outputId": "dad30fa4-03c7-49b0-dd8a-d5637ec00549"
      },
      "cell_type": "code",
      "source": [
        "# Extract the created_at column from df: tweet_time\n",
        "tweet_time = df['created_at']\n",
        "\n",
        "# Using the List Comprehension here. \n",
        "# Extract the clock time: tweet_clock_time\n",
        "tweet_clock_time = [entry[11:19] for entry in tweet_time]\n",
        "# Conditional List Comprehension for time-stamped data\n",
        "tweet_clock_time_1 = [entry[11:19] for entry in tweet_time if entry[17:19] == '19']\n",
        "\n",
        "# Print the extracted times\n",
        "print(tweet_clock_time)\n",
        "print(tweet_clock_time_1)\n"
      ],
      "execution_count": 25,
      "outputs": [
        {
          "output_type": "stream",
          "text": [
            "['23:40:17', '23:40:17', '23:40:17', '23:40:17', '23:40:17', '23:40:17', '23:40:18', '23:40:17', '23:40:18', '23:40:18', '23:40:18', '23:40:17', '23:40:18', '23:40:18', '23:40:17', '23:40:18', '23:40:18', '23:40:17', '23:40:18', '23:40:17', '23:40:18', '23:40:18', '23:40:18', '23:40:18', '23:40:17', '23:40:18', '23:40:18', '23:40:17', '23:40:18', '23:40:18', '23:40:18', '23:40:18', '23:40:18', '23:40:18', '23:40:18', '23:40:18', '23:40:18', '23:40:18', '23:40:18', '23:40:18', '23:40:18', '23:40:18', '23:40:18', '23:40:18', '23:40:18', '23:40:18', '23:40:18', '23:40:18', '23:40:18', '23:40:18', '23:40:18', '23:40:18', '23:40:18', '23:40:18', '23:40:18', '23:40:18', '23:40:18', '23:40:18', '23:40:18', '23:40:18', '23:40:19', '23:40:18', '23:40:18', '23:40:18', '23:40:19', '23:40:19', '23:40:19', '23:40:18', '23:40:19', '23:40:19', '23:40:19', '23:40:18', '23:40:19', '23:40:19', '23:40:19', '23:40:18', '23:40:19', '23:40:19', '23:40:19', '23:40:19', '23:40:19', '23:40:19', '23:40:19', '23:40:19', '23:40:19', '23:40:19', '23:40:19', '23:40:19', '23:40:19', '23:40:19', '23:40:19', '23:40:19', '23:40:19', '23:40:19', '23:40:19', '23:40:19', '23:40:19', '23:40:19', '23:40:19', '23:40:19']\n",
            "['23:40:19', '23:40:19', '23:40:19', '23:40:19', '23:40:19', '23:40:19', '23:40:19', '23:40:19', '23:40:19', '23:40:19', '23:40:19', '23:40:19', '23:40:19', '23:40:19', '23:40:19', '23:40:19', '23:40:19', '23:40:19', '23:40:19', '23:40:19', '23:40:19', '23:40:19', '23:40:19', '23:40:19', '23:40:19', '23:40:19', '23:40:19', '23:40:19', '23:40:19', '23:40:19', '23:40:19', '23:40:19', '23:40:19', '23:40:19']\n"
          ],
          "name": "stdout"
        }
      ]
    }
  ]
}